{
 "cells": [
  {
   "cell_type": "code",
   "execution_count": 22,
   "metadata": {},
   "outputs": [
    {
     "name": "stdout",
     "output_type": "stream",
     "text": [
      "['cmd_q_polar_all_median.csv', 'hmd_q_all_all_median.csv', 'hmd_SASA_nonpolar_median.csv', 'hmd_q_polar_all_median.csv']\n"
     ]
    }
   ],
   "source": [
    "import pandas as pd\n",
    "import glob\n",
    "l = glob.glob('*csv')\n",
    "print(l)\n",
    "l_df =[pd.read_csv(i,header=None,skiprows=1) for i in l]\n",
    "\n",
    "df = pd.concat(l_df,axis=1)\n",
    "df_new = df.iloc[:,[0,1,3,5,7]]\n",
    "df_new.columns=['VHHs','v1','v2','v3','v4']\n",
    "df_new.round(5).to_excel('VHHs_MD_predicted_Tm_20230609.xlsx',index=False)\n",
    "# print(l)"
   ]
  },
  {
   "cell_type": "code",
   "execution_count": 21,
   "metadata": {},
   "outputs": [
    {
     "data": {
      "text/html": [
       "<div>\n",
       "<style scoped>\n",
       "    .dataframe tbody tr th:only-of-type {\n",
       "        vertical-align: middle;\n",
       "    }\n",
       "\n",
       "    .dataframe tbody tr th {\n",
       "        vertical-align: top;\n",
       "    }\n",
       "\n",
       "    .dataframe thead th {\n",
       "        text-align: right;\n",
       "    }\n",
       "</style>\n",
       "<table border=\"1\" class=\"dataframe\">\n",
       "  <thead>\n",
       "    <tr style=\"text-align: right;\">\n",
       "      <th></th>\n",
       "      <th>VHHs</th>\n",
       "      <th>v1</th>\n",
       "      <th>v2</th>\n",
       "      <th>v3</th>\n",
       "      <th>v4</th>\n",
       "    </tr>\n",
       "  </thead>\n",
       "  <tbody>\n",
       "    <tr>\n",
       "      <th>0</th>\n",
       "      <td>VHH-1</td>\n",
       "      <td>0.9236</td>\n",
       "      <td>0.7944</td>\n",
       "      <td>0.4691</td>\n",
       "      <td>0.7894</td>\n",
       "    </tr>\n",
       "    <tr>\n",
       "      <th>1</th>\n",
       "      <td>VHH-2</td>\n",
       "      <td>0.9034</td>\n",
       "      <td>0.7847</td>\n",
       "      <td>0.4696</td>\n",
       "      <td>0.7813</td>\n",
       "    </tr>\n",
       "    <tr>\n",
       "      <th>2</th>\n",
       "      <td>VHH-3</td>\n",
       "      <td>0.9146</td>\n",
       "      <td>0.7928</td>\n",
       "      <td>0.4770</td>\n",
       "      <td>0.7579</td>\n",
       "    </tr>\n",
       "    <tr>\n",
       "      <th>3</th>\n",
       "      <td>VHH-4</td>\n",
       "      <td>0.8410</td>\n",
       "      <td>0.7778</td>\n",
       "      <td>0.5011</td>\n",
       "      <td>0.7378</td>\n",
       "    </tr>\n",
       "    <tr>\n",
       "      <th>4</th>\n",
       "      <td>VHH-5</td>\n",
       "      <td>0.9133</td>\n",
       "      <td>0.7691</td>\n",
       "      <td>0.4843</td>\n",
       "      <td>0.7679</td>\n",
       "    </tr>\n",
       "    <tr>\n",
       "      <th>5</th>\n",
       "      <td>VHH-6</td>\n",
       "      <td>0.9068</td>\n",
       "      <td>0.7852</td>\n",
       "      <td>0.4374</td>\n",
       "      <td>0.7839</td>\n",
       "    </tr>\n",
       "    <tr>\n",
       "      <th>6</th>\n",
       "      <td>VHH-7</td>\n",
       "      <td>0.8809</td>\n",
       "      <td>0.7629</td>\n",
       "      <td>0.5036</td>\n",
       "      <td>0.7442</td>\n",
       "    </tr>\n",
       "    <tr>\n",
       "      <th>7</th>\n",
       "      <td>VHH-8</td>\n",
       "      <td>0.9275</td>\n",
       "      <td>0.7878</td>\n",
       "      <td>0.4944</td>\n",
       "      <td>0.8207</td>\n",
       "    </tr>\n",
       "  </tbody>\n",
       "</table>\n",
       "</div>"
      ],
      "text/plain": [
       "    VHHs      v1      v2      v3      v4\n",
       "0  VHH-1  0.9236  0.7944  0.4691  0.7894\n",
       "1  VHH-2  0.9034  0.7847  0.4696  0.7813\n",
       "2  VHH-3  0.9146  0.7928  0.4770  0.7579\n",
       "3  VHH-4  0.8410  0.7778  0.5011  0.7378\n",
       "4  VHH-5  0.9133  0.7691  0.4843  0.7679\n",
       "5  VHH-6  0.9068  0.7852  0.4374  0.7839\n",
       "6  VHH-7  0.8809  0.7629  0.5036  0.7442\n",
       "7  VHH-8  0.9275  0.7878  0.4944  0.8207"
      ]
     },
     "execution_count": 21,
     "metadata": {},
     "output_type": "execute_result"
    }
   ],
   "source": [
    "df_new.round(4)"
   ]
  },
  {
   "cell_type": "code",
   "execution_count": null,
   "metadata": {},
   "outputs": [],
   "source": []
  }
 ],
 "metadata": {
  "kernelspec": {
   "display_name": "bio",
   "language": "python",
   "name": "python3"
  },
  "language_info": {
   "codemirror_mode": {
    "name": "ipython",
    "version": 3
   },
   "file_extension": ".py",
   "mimetype": "text/x-python",
   "name": "python",
   "nbconvert_exporter": "python",
   "pygments_lexer": "ipython3",
   "version": "3.7.13"
  },
  "orig_nbformat": 4
 },
 "nbformat": 4,
 "nbformat_minor": 2
}
